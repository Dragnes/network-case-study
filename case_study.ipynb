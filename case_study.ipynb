{
 "cells": [
  {
   "cell_type": "code",
   "execution_count": 16,
   "metadata": {},
   "outputs": [],
   "source": [
    "import pandas as pd\n",
    "import numpy as np\n",
    "\n",
    "from sklearn.feature_extraction.text import CountVectorizer, TfidfTransformer, TfidfVectorizer\n",
    "from sklearn.preprocessing import normalize\n",
    "from sklearn.metrics.pairwise import cosine_similarity\n",
    "from nltk.corpus import stopwords\n",
    "import re\n",
    "\n",
    "from sklearn.decomposition import NMF\n",
    "\n",
    "import networkx as nx\n",
    "\n",
    "from collections import Counter, defaultdict\n",
    "\n",
    "import matplotlib.pyplot as plt\n",
    "plt.style.use('ggplot')\n",
    "%matplotlib inline"
   ]
  },
  {
   "cell_type": "code",
   "execution_count": 2,
   "metadata": {},
   "outputs": [],
   "source": [
    "physicians = pd.read_csv('Archive 3/physicians.csv')\n",
    "procedures = pd.read_csv('Archive 3/procedures.csv')"
   ]
  },
  {
   "cell_type": "code",
   "execution_count": 85,
   "metadata": {},
   "outputs": [
    {
     "data": {
      "text/html": [
       "<div>\n",
       "<style scoped>\n",
       "    .dataframe tbody tr th:only-of-type {\n",
       "        vertical-align: middle;\n",
       "    }\n",
       "\n",
       "    .dataframe tbody tr th {\n",
       "        vertical-align: top;\n",
       "    }\n",
       "\n",
       "    .dataframe thead th {\n",
       "        text-align: right;\n",
       "    }\n",
       "</style>\n",
       "<table border=\"1\" class=\"dataframe\">\n",
       "  <thead>\n",
       "    <tr style=\"text-align: right;\">\n",
       "      <th></th>\n",
       "      <th>id</th>\n",
       "      <th>specialty</th>\n",
       "    </tr>\n",
       "  </thead>\n",
       "  <tbody>\n",
       "    <tr>\n",
       "      <th>0</th>\n",
       "      <td>0</td>\n",
       "      <td>General Surgery</td>\n",
       "    </tr>\n",
       "    <tr>\n",
       "      <th>1</th>\n",
       "      <td>1</td>\n",
       "      <td>Unknown</td>\n",
       "    </tr>\n",
       "    <tr>\n",
       "      <th>2</th>\n",
       "      <td>2</td>\n",
       "      <td>Family Practice</td>\n",
       "    </tr>\n",
       "    <tr>\n",
       "      <th>3</th>\n",
       "      <td>3</td>\n",
       "      <td>Emergency Medicine</td>\n",
       "    </tr>\n",
       "    <tr>\n",
       "      <th>4</th>\n",
       "      <td>4</td>\n",
       "      <td>Plastic and Reconstructive Surgery</td>\n",
       "    </tr>\n",
       "  </tbody>\n",
       "</table>\n",
       "</div>"
      ],
      "text/plain": [
       "   id                           specialty\n",
       "0   0                     General Surgery\n",
       "1   1                             Unknown\n",
       "2   2                     Family Practice\n",
       "3   3                  Emergency Medicine\n",
       "4   4  Plastic and Reconstructive Surgery"
      ]
     },
     "execution_count": 85,
     "metadata": {},
     "output_type": "execute_result"
    }
   ],
   "source": [
    "physicians.head()"
   ]
  },
  {
   "cell_type": "code",
   "execution_count": 86,
   "metadata": {},
   "outputs": [
    {
     "data": {
      "text/plain": [
       "array(['General Surgery', 'Unknown', 'Family Practice',\n",
       "       'Emergency Medicine', 'Plastic and Reconstructive Surgery',\n",
       "       'Cardiology', 'Anesthesiology', 'Diagnostic Radiology',\n",
       "       'Internal Medicine', 'Psychiatry', 'Pulmonary Disease',\n",
       "       'Physical Medicine and Rehabilitation', 'Dermatology',\n",
       "       'Hand Surgery', 'Urology', 'Critical Care (Intensivists)',\n",
       "       'Ophthalmology', 'Pediatric Medicine', 'Radiation Oncology',\n",
       "       'Gastroenterology', 'Orthopedic Surgery', 'Neurology',\n",
       "       'Physical Therapist', 'Obstetrics/Gynecology', 'Pathology',\n",
       "       'Endocrinology', 'Vascular Surgery',\n",
       "       'Interventional Pain Management', 'General Practice',\n",
       "       'Hematology/Oncology', 'Interventional Radiology',\n",
       "       'Oral Surgery (dentists only)', 'Rheumatology', 'Otolaryngology',\n",
       "       'Cardiac Surgery', 'Colorectal Surgery (formerly proctology)',\n",
       "       'Allergy/Immunology', 'Addiction Medicine', 'Infectious Disease',\n",
       "       'Registered Dietician/Nutrition Professional', 'Medical Oncology',\n",
       "       'Nephrology', 'Neurosurgery', 'Cardiac Electrophysiology',\n",
       "       'Hematology', 'Thoracic Surgery', 'Geriatric Medicine',\n",
       "       'Physician Assistant', 'Audiologist (billing independently)',\n",
       "       'Pain Management', 'Sports Medicine',\n",
       "       'Unknown Physician Specialty Code', 'Surgical Oncology',\n",
       "       'Hospice and Palliative Care', 'Preventive Medicine',\n",
       "       'Neuropsychiatry', 'Gynecological/Oncology',\n",
       "       'Peripheral Vascular Disease', 'Nurse Practitioner',\n",
       "       'Nuclear Medicine', 'Geriatric Psychiatry', 'Podiatry',\n",
       "       'Multispecialty Clinic/Group Practice', 'Maxillofacial Surgery',\n",
       "       'Optometry', 'Chiropractic', 'Sleep Medicine',\n",
       "       'Licensed Clinical Social Worker', 'Clinical Laboratory',\n",
       "       'Clinical Psychologist', 'CRNA'], dtype=object)"
      ]
     },
     "execution_count": 86,
     "metadata": {},
     "output_type": "execute_result"
    }
   ],
   "source": [
    "physicians['specialty'].unique()"
   ]
  },
  {
   "cell_type": "code",
   "execution_count": 140,
   "metadata": {},
   "outputs": [
    {
     "name": "stdout",
     "output_type": "stream",
     "text": [
      "11092\n"
     ]
    }
   ],
   "source": [
    "print(len(physicians[physicians['specialty'] == 'Unknown']))"
   ]
  },
  {
   "cell_type": "code",
   "execution_count": null,
   "metadata": {},
   "outputs": [],
   "source": [
    "physicians.columns = []"
   ]
  },
  {
   "cell_type": "code",
   "execution_count": null,
   "metadata": {},
   "outputs": [],
   "source": [
    "procedures = pd.merge(procedures, physicians, )"
   ]
  },
  {
   "cell_type": "code",
   "execution_count": 3,
   "metadata": {},
   "outputs": [
    {
     "data": {
      "text/html": [
       "<div>\n",
       "<style scoped>\n",
       "    .dataframe tbody tr th:only-of-type {\n",
       "        vertical-align: middle;\n",
       "    }\n",
       "\n",
       "    .dataframe tbody tr th {\n",
       "        vertical-align: top;\n",
       "    }\n",
       "\n",
       "    .dataframe thead th {\n",
       "        text-align: right;\n",
       "    }\n",
       "</style>\n",
       "<table border=\"1\" class=\"dataframe\">\n",
       "  <thead>\n",
       "    <tr style=\"text-align: right;\">\n",
       "      <th></th>\n",
       "      <th>physician_id</th>\n",
       "      <th>procedure_code</th>\n",
       "      <th>procedure</th>\n",
       "      <th>number_of_patients</th>\n",
       "    </tr>\n",
       "  </thead>\n",
       "  <tbody>\n",
       "    <tr>\n",
       "      <th>0</th>\n",
       "      <td>0</td>\n",
       "      <td>99202</td>\n",
       "      <td>new_patient_office_or_other_outpatient_visit,_...</td>\n",
       "      <td>14</td>\n",
       "    </tr>\n",
       "    <tr>\n",
       "      <th>1</th>\n",
       "      <td>0</td>\n",
       "      <td>99203</td>\n",
       "      <td>new_patient_office_or_other_outpatient_visit,_...</td>\n",
       "      <td>15</td>\n",
       "    </tr>\n",
       "    <tr>\n",
       "      <th>2</th>\n",
       "      <td>0</td>\n",
       "      <td>99205</td>\n",
       "      <td>new_patient_office_or_other_outpatient_visit,_...</td>\n",
       "      <td>12</td>\n",
       "    </tr>\n",
       "    <tr>\n",
       "      <th>3</th>\n",
       "      <td>0</td>\n",
       "      <td>99212</td>\n",
       "      <td>established_patient_office_or_other_outpatient...</td>\n",
       "      <td>27</td>\n",
       "    </tr>\n",
       "    <tr>\n",
       "      <th>4</th>\n",
       "      <td>0</td>\n",
       "      <td>99213</td>\n",
       "      <td>established_patient_office_or_other_outpatient...</td>\n",
       "      <td>16</td>\n",
       "    </tr>\n",
       "  </tbody>\n",
       "</table>\n",
       "</div>"
      ],
      "text/plain": [
       "   physician_id procedure_code  \\\n",
       "0             0          99202   \n",
       "1             0          99203   \n",
       "2             0          99205   \n",
       "3             0          99212   \n",
       "4             0          99213   \n",
       "\n",
       "                                           procedure  number_of_patients  \n",
       "0  new_patient_office_or_other_outpatient_visit,_...                  14  \n",
       "1  new_patient_office_or_other_outpatient_visit,_...                  15  \n",
       "2  new_patient_office_or_other_outpatient_visit,_...                  12  \n",
       "3  established_patient_office_or_other_outpatient...                  27  \n",
       "4  established_patient_office_or_other_outpatient...                  16  "
      ]
     },
     "execution_count": 3,
     "metadata": {},
     "output_type": "execute_result"
    }
   ],
   "source": [
    "procedures.head()"
   ]
  },
  {
   "cell_type": "code",
   "execution_count": 34,
   "metadata": {},
   "outputs": [
    {
     "name": "stdout",
     "output_type": "stream",
     "text": [
      "99202 new_patient_office_or_other_outpatient_visit,_typically_20_minutes\n",
      "99203 new_patient_office_or_other_outpatient_visit,_typically_30_minutes\n",
      "99205 new_patient_office_or_other_outpatient_visit,_typically_60_minutes\n",
      "99212 established_patient_office_or_other_outpatient_visit,_typically_10_minutes\n",
      "99213 established_patient_office_or_other_outpatient_visit,_typically_15_minutes\n",
      "99221 initial_hospital_inpatient_care,_typically_30_minutes_per_day\n",
      "99232 subsequent_hospital_inpatient_care,_typically_25_minutes_per_day\n",
      "76942 ultrasonic_guidance_imaging_supervision_and_interpretation_for_insertion_of_needle\n",
      "99213 established_patient_office_or_other_outpatient_visit,_typically_15_minutes\n",
      "99214 established_patient_office_or_other_outpatient,_visit_typically_25_minutes\n",
      "99232 subsequent_hospital_inpatient_care,_typically_25_minutes_per_day\n",
      "99238 hospital_discharge_day_management,_30_minutes_or_less\n",
      "99283 emergency_department_visit,_moderately_severe_problem\n",
      "99284 emergency_department_visit,_problem_of_high_severity\n",
      "99285 emergency_department_visit,_problem_with_significant_threat_to_life_or_function\n",
      "99291 critical_care_delivery_critically_ill_or_injured_patient,_first_30-74_minutes\n",
      "99204 new_patient_office_or_other_outpatient_visit,_typically_45_minutes\n",
      "99214 established_patient_office_or_other_outpatient,_visit_typically_25_minutes\n",
      "36247 insertion_of_catheter_into_abdominal_pelvic_or_leg_artery\n",
      "75625 radiological_supervision_and_interpretation_x-ray_of_abdominal_aorta\n"
     ]
    }
   ],
   "source": [
    "for i in range(20):\n",
    "    print(procedures.iloc[i, 1], procedures.iloc[i, 2])"
   ]
  },
  {
   "cell_type": "code",
   "execution_count": 47,
   "metadata": {},
   "outputs": [],
   "source": [
    "mask = pd.Series(map(lambda x: 'new_patient_office_or_other_outpatient_visit' not in x, procedures['procedure']))"
   ]
  },
  {
   "cell_type": "code",
   "execution_count": 50,
   "metadata": {},
   "outputs": [],
   "source": [
    "procedures = procedures[mask]"
   ]
  },
  {
   "cell_type": "code",
   "execution_count": 51,
   "metadata": {},
   "outputs": [
    {
     "name": "stdout",
     "output_type": "stream",
     "text": [
      "reconstruction error: 694.1427973788901\n",
      "reconstruction error: 655.6206807097652\n",
      "reconstruction error: 634.8460375149225\n",
      "reconstruction error: 619.3989645850868\n",
      "reconstruction error: 607.1324895308553\n",
      "reconstruction error: 597.8793331529952\n",
      "reconstruction error: 588.8212157797875\n",
      "reconstruction error: 580.0259401150201\n",
      "reconstruction error: 572.8579933492217\n"
     ]
    }
   ],
   "source": [
    "docs = list(map(lambda x: ' '.join(re.split('[,_\\d]+', x)), procedures['procedure']))\n",
    "\n",
    "stops = list(stopwords.words('english'))\n",
    "stops.extend(['typically', 'least', 'including', 'per', 'using'])\n",
    "\n",
    "tfidf = TfidfVectorizer(stop_words = stops)\n",
    "tfidfed = tfidf.fit_transform(docs)\n",
    "\n",
    "vocabulary = np.array(tfidf.get_feature_names())\n",
    "\n",
    "r_errors = []\n",
    "\n",
    "# find the ideal number of components through iteration\n",
    "for i in range(1, 10):\n",
    "    nmf = NMF(n_components=i, max_iter = 100, alpha = 0)\n",
    "    W = nmf.fit_transform(tfidfed)\n",
    "    H = nmf.components_\n",
    "\n",
    "    print('reconstruction error:', nmf.reconstruction_err_)\n",
    "    r_errors.append(nmf.reconstruction_err_)\n",
    "    \n",
    "    "
   ]
  },
  {
   "cell_type": "code",
   "execution_count": 52,
   "metadata": {},
   "outputs": [
    {
     "data": {
      "text/plain": [
       "Text(0.5,1,'Reconstruction Error vs. n_components')"
      ]
     },
     "execution_count": 52,
     "metadata": {},
     "output_type": "execute_result"
    },
    {
     "data": {
      "image/png": "[encoded data removed]",
      "text/plain": [
       "<Figure size 1296x648 with 1 Axes>"
      ]
     },
     "metadata": {},
     "output_type": "display_data"
    }
   ],
   "source": [
    "# plot reconstruction errors\n",
    "fig = plt.figure(figsize = (18, 9))\n",
    "ax = fig.add_subplot(111)\n",
    "x = np.arange(1, 10)\n",
    "ax.plot(x, r_errors)\n",
    "ax.set_title('Reconstruction Error vs. n_components')"
   ]
  },
  {
   "cell_type": "code",
   "execution_count": 101,
   "metadata": {},
   "outputs": [
    {
     "name": "stdout",
     "output_type": "stream",
     "text": [
      "reconstruction error: 597.8793331272848\n"
     ]
    }
   ],
   "source": [
    "# from the graph above, let use n_components = 6\n",
    "nmf = NMF(n_components=6, max_iter = 100, alpha = 0)\n",
    "W = nmf.fit_transform(tfidfed)\n",
    "H = nmf.components_\n",
    "\n",
    "print('reconstruction error:', nmf.reconstruction_err_)"
   ]
  },
  {
   "cell_type": "code",
   "execution_count": 102,
   "metadata": {},
   "outputs": [],
   "source": [
    "def hand_label_topics(H, vocabulary):\n",
    "    '''\n",
    "    Print the most influential words of each latent topic, and prompt the user\n",
    "    to label each topic. The user should use their humanness to figure out what\n",
    "    each latent topic is capturing.\n",
    "    '''\n",
    "    hand_labels = []\n",
    "    for i, row in enumerate(H):\n",
    "        top_five = np.argsort(row)[::-1][:50]\n",
    "        print('topic', i)\n",
    "        print('-->', ' '.join(vocabulary[top_five]))\n",
    "        label = input('please label this topic: ')\n",
    "        hand_labels.append(label)\n",
    "        print()\n",
    "    return hand_labels"
   ]
  },
  {
   "cell_type": "code",
   "execution_count": 103,
   "metadata": {},
   "outputs": [
    {
     "name": "stdout",
     "output_type": "stream",
     "text": [
      "topic 0\n",
      "--> office outpatient established visit patient minutes nursing facility home department emergency problem first ill injured critically critical delivery management service medical plan discharge annual eye personalized wellness pps includes treatment diagnosis day prevention living years older assisted subsequent visits less observation severe severity moderately high examination health services new greater\n",
      "\n",
      "topic 1\n",
      "--> hospital day care inpatient minutes subsequent initial observation discharge management less nursing facility visit injured critical critically ill delivery first severity home high health plan service moderate annual wellness pps personalized includes services face prevention counseling tobacco smoking medicare intermediate greater agency covered present reports physicians contacts affirm certification required\n",
      "\n",
      "topic 2\n",
      "--> routine leads interpretation ekg report electrocardiogram tracing hour rhythm analysis heart probe esophagus examination insertion days symptom related electrical activity radiological ultrasound events triggered greater computer performed ultrasonic slides stained special hours guidance specimen needle aorta rest ecg abdominal esophageal artery examine identify organisms preventive aspirate physical external patient fine\n",
      "\n",
      "topic 3\n",
      "--> ultrasound flow color rate valve function heart blood depicted direction examination study doppler directed left insertion chambers valves vessels limited grafts head follow neck imaging brain catheter scanning outside sides legs lower scan arteries abdomen probe esophagus arms ct arterial nuclear medicine pelvis collection sample needle vein contrast drugs studies\n",
      "\n",
      "topic 4\n",
      "--> exercise induced stress drug monitoring test vessel heart blood physician ekg supervision interpretation report vessels left rest performed insertion clotting time medicine nuclear studies imaging drugs catheter grafts continuous tracing study hour rhythm multiple lower urinalysis examination needle ultrasound group chemicals vein manual sample collection analysis automated cell symptom related\n",
      "\n",
      "topic 5\n",
      "--> lead analysis review evaluation dual adjustment programming permanent testing pacemaker physician report single system multiple defibrillator cardioverter days evaluations remote rhythm disconnection parameters connection recording hour tracing heart device ray technician results transmissions support distribution views telephonic strips nuclear medicine studies drugs replacement chamber implantable study interpretation vessels computer pacing\n",
      "\n"
     ]
    }
   ],
   "source": [
    "hand_labels = hand_label_topics(H, vocabulary)"
   ]
  },
  {
   "cell_type": "code",
   "execution_count": 105,
   "metadata": {},
   "outputs": [
    {
     "data": {
      "text/plain": [
       "['outpatient',\n",
       " 'inpatient',\n",
       " 'routine',\n",
       " 'cardiopulmonary',\n",
       " 'monitoring',\n",
       " 'heart2']"
      ]
     },
     "execution_count": 105,
     "metadata": {},
     "output_type": "execute_result"
    }
   ],
   "source": [
    "hand_labels"
   ]
  },
  {
   "cell_type": "code",
   "execution_count": 106,
   "metadata": {},
   "outputs": [
    {
     "data": {
      "text/html": [
       "<div>\n",
       "<style scoped>\n",
       "    .dataframe tbody tr th:only-of-type {\n",
       "        vertical-align: middle;\n",
       "    }\n",
       "\n",
       "    .dataframe tbody tr th {\n",
       "        vertical-align: top;\n",
       "    }\n",
       "\n",
       "    .dataframe thead th {\n",
       "        text-align: right;\n",
       "    }\n",
       "</style>\n",
       "<table border=\"1\" class=\"dataframe\">\n",
       "  <thead>\n",
       "    <tr style=\"text-align: right;\">\n",
       "      <th></th>\n",
       "      <th>physician_id</th>\n",
       "      <th>procedure_code</th>\n",
       "      <th>procedure</th>\n",
       "      <th>number_of_patients</th>\n",
       "    </tr>\n",
       "  </thead>\n",
       "  <tbody>\n",
       "    <tr>\n",
       "      <th>3</th>\n",
       "      <td>0</td>\n",
       "      <td>99212</td>\n",
       "      <td>established_patient_office_or_other_outpatient...</td>\n",
       "      <td>27</td>\n",
       "    </tr>\n",
       "    <tr>\n",
       "      <th>4</th>\n",
       "      <td>0</td>\n",
       "      <td>99213</td>\n",
       "      <td>established_patient_office_or_other_outpatient...</td>\n",
       "      <td>16</td>\n",
       "    </tr>\n",
       "    <tr>\n",
       "      <th>5</th>\n",
       "      <td>0</td>\n",
       "      <td>99221</td>\n",
       "      <td>initial_hospital_inpatient_care,_typically_30_...</td>\n",
       "      <td>13</td>\n",
       "    </tr>\n",
       "    <tr>\n",
       "      <th>6</th>\n",
       "      <td>0</td>\n",
       "      <td>99232</td>\n",
       "      <td>subsequent_hospital_inpatient_care,_typically_...</td>\n",
       "      <td>12</td>\n",
       "    </tr>\n",
       "    <tr>\n",
       "      <th>7</th>\n",
       "      <td>1</td>\n",
       "      <td>76942</td>\n",
       "      <td>ultrasonic_guidance_imaging_supervision_and_in...</td>\n",
       "      <td>14</td>\n",
       "    </tr>\n",
       "  </tbody>\n",
       "</table>\n",
       "</div>"
      ],
      "text/plain": [
       "   physician_id procedure_code  \\\n",
       "3             0          99212   \n",
       "4             0          99213   \n",
       "5             0          99221   \n",
       "6             0          99232   \n",
       "7             1          76942   \n",
       "\n",
       "                                           procedure  number_of_patients  \n",
       "3  established_patient_office_or_other_outpatient...                  27  \n",
       "4  established_patient_office_or_other_outpatient...                  16  \n",
       "5  initial_hospital_inpatient_care,_typically_30_...                  13  \n",
       "6  subsequent_hospital_inpatient_care,_typically_...                  12  \n",
       "7  ultrasonic_guidance_imaging_supervision_and_in...                  14  "
      ]
     },
     "execution_count": 106,
     "metadata": {},
     "output_type": "execute_result"
    }
   ],
   "source": [
    "procedures.head()"
   ]
  },
  {
   "cell_type": "code",
   "execution_count": 96,
   "metadata": {},
   "outputs": [],
   "source": [
    "def softmax(v, temperature=1.0):\n",
    "    '''\n",
    "    A heuristic to convert arbitrary positive values into probabilities.\n",
    "    See: https://en.wikipedia.org/wiki/Softmax_function\n",
    "    '''\n",
    "    expv = np.exp(v / temperature)\n",
    "    s = np.sum(expv)\n",
    "    return expv / s\n"
   ]
  },
  {
   "cell_type": "code",
   "execution_count": 132,
   "metadata": {},
   "outputs": [],
   "source": [
    "def analyze_procedure(procedure_index, procedure, W, hand_labels):\n",
    "    '''\n",
    "    Print an analysis of a single NYT articles, including the article text\n",
    "    and a summary of which topics it represents. The topics are identified\n",
    "    via the hand-labels which were assigned by the user.\n",
    "    '''\n",
    "    print(procedure.iloc[procedure_index, :])\n",
    "    probs = softmax(W[procedure_index], temperature=0.01)\n",
    "    for prob, label in zip(probs, hand_labels):\n",
    "        print('--> {:.2f}% {}'.format(prob * 100, label))\n",
    "    print()\n"
   ]
  },
  {
   "cell_type": "code",
   "execution_count": null,
   "metadata": {},
   "outputs": [],
   "source": []
  },
  {
   "cell_type": "code",
   "execution_count": 164,
   "metadata": {},
   "outputs": [],
   "source": [
    "np.random.seed(12345)\n",
    "rand_procedures = np.random.choice(list(range(len(W))), 5)"
   ]
  },
  {
   "cell_type": "code",
   "execution_count": 165,
   "metadata": {},
   "outputs": [
    {
     "data": {
      "text/plain": [
       "array([ 77285, 395393, 347556,  86398, 421221])"
      ]
     },
     "execution_count": 165,
     "metadata": {},
     "output_type": "execute_result"
    }
   ],
   "source": [
    "rand_procedures"
   ]
  },
  {
   "cell_type": "code",
   "execution_count": 166,
   "metadata": {},
   "outputs": [
    {
     "name": "stdout",
     "output_type": "stream",
     "text": [
      "physician_id                                                       5030\n",
      "procedure_code                                                    76942\n",
      "procedure             ultrasonic_guidance_imaging_supervision_and_in...\n",
      "number_of_patients                                                   32\n",
      "Name: 81574, dtype: object\n",
      "--> 11.39% outpatient\n",
      "--> 11.39% inpatient\n",
      "--> 20.29% routine\n",
      "--> 12.43% cardiopulmonary\n",
      "--> 33.10% monitoring\n",
      "--> 11.39% heart2\n",
      "\n",
      "physician_id                                                      25654\n",
      "procedure_code                                                    93010\n",
      "procedure             routine_electrocardiogram_(ekg)_using_at_least...\n",
      "number_of_patients                                                  435\n",
      "Name: 417606, dtype: object\n",
      "--> 0.15% outpatient\n",
      "--> 0.15% inpatient\n",
      "--> 99.23% routine\n",
      "--> 0.15% cardiopulmonary\n",
      "--> 0.15% monitoring\n",
      "--> 0.15% heart2\n",
      "\n",
      "physician_id                                                      22596\n",
      "procedure_code                                                    93351\n",
      "procedure             ultrasound_examination_and_continuous_monitori...\n",
      "number_of_patients                                                   18\n",
      "Name: 367071, dtype: object\n",
      "--> 0.70% outpatient\n",
      "--> 0.70% inpatient\n",
      "--> 1.06% routine\n",
      "--> 1.75% cardiopulmonary\n",
      "--> 95.10% monitoring\n",
      "--> 0.70% heart2\n",
      "\n",
      "physician_id                                               5608\n",
      "procedure_code                                            G0008\n",
      "procedure             administration_of_influenza_virus_vaccine\n",
      "number_of_patients                                           15\n",
      "Name: 91220, dtype: object\n",
      "--> 16.64% outpatient\n",
      "--> 16.60% inpatient\n",
      "--> 16.60% routine\n",
      "--> 16.60% cardiopulmonary\n",
      "--> 16.85% monitoring\n",
      "--> 16.72% heart2\n",
      "\n",
      "physician_id                                                      27298\n",
      "procedure_code                                                    93000\n",
      "procedure             routine_ekg_using_at_least_12_leads_including_...\n",
      "number_of_patients                                                  319\n",
      "Name: 444848, dtype: object\n",
      "--> 0.14% outpatient\n",
      "--> 0.14% inpatient\n",
      "--> 99.31% routine\n",
      "--> 0.14% cardiopulmonary\n",
      "--> 0.14% monitoring\n",
      "--> 0.14% heart2\n",
      "\n"
     ]
    }
   ],
   "source": [
    "for i in rand_procedures:\n",
    "    analyze_procedure(i, procedures, W, hand_labels)"
   ]
  },
  {
   "cell_type": "code",
   "execution_count": 198,
   "metadata": {},
   "outputs": [
    {
     "data": {
      "text/html": [
       "<div>\n",
       "<style scoped>\n",
       "    .dataframe tbody tr th:only-of-type {\n",
       "        vertical-align: middle;\n",
       "    }\n",
       "\n",
       "    .dataframe tbody tr th {\n",
       "        vertical-align: top;\n",
       "    }\n",
       "\n",
       "    .dataframe thead th {\n",
       "        text-align: right;\n",
       "    }\n",
       "</style>\n",
       "<table border=\"1\" class=\"dataframe\">\n",
       "  <thead>\n",
       "    <tr style=\"text-align: right;\">\n",
       "      <th></th>\n",
       "      <th>physician_id</th>\n",
       "      <th>procedure_code</th>\n",
       "      <th>procedure</th>\n",
       "      <th>number_of_patients</th>\n",
       "      <th>latent_component</th>\n",
       "    </tr>\n",
       "  </thead>\n",
       "  <tbody>\n",
       "    <tr>\n",
       "      <th>3</th>\n",
       "      <td>0</td>\n",
       "      <td>99212</td>\n",
       "      <td>established_patient_office_or_other_outpatient...</td>\n",
       "      <td>27</td>\n",
       "      <td>2</td>\n",
       "    </tr>\n",
       "    <tr>\n",
       "      <th>4</th>\n",
       "      <td>0</td>\n",
       "      <td>99213</td>\n",
       "      <td>established_patient_office_or_other_outpatient...</td>\n",
       "      <td>16</td>\n",
       "      <td>2</td>\n",
       "    </tr>\n",
       "    <tr>\n",
       "      <th>5</th>\n",
       "      <td>0</td>\n",
       "      <td>99221</td>\n",
       "      <td>initial_hospital_inpatient_care,_typically_30_...</td>\n",
       "      <td>13</td>\n",
       "      <td>0</td>\n",
       "    </tr>\n",
       "    <tr>\n",
       "      <th>6</th>\n",
       "      <td>0</td>\n",
       "      <td>99232</td>\n",
       "      <td>subsequent_hospital_inpatient_care,_typically_...</td>\n",
       "      <td>12</td>\n",
       "      <td>4</td>\n",
       "    </tr>\n",
       "    <tr>\n",
       "      <th>7</th>\n",
       "      <td>1</td>\n",
       "      <td>76942</td>\n",
       "      <td>ultrasonic_guidance_imaging_supervision_and_in...</td>\n",
       "      <td>14</td>\n",
       "      <td>1</td>\n",
       "    </tr>\n",
       "  </tbody>\n",
       "</table>\n",
       "</div>"
      ],
      "text/plain": [
       "   physician_id procedure_code  \\\n",
       "3             0          99212   \n",
       "4             0          99213   \n",
       "5             0          99221   \n",
       "6             0          99232   \n",
       "7             1          76942   \n",
       "\n",
       "                                           procedure  number_of_patients  \\\n",
       "3  established_patient_office_or_other_outpatient...                  27   \n",
       "4  established_patient_office_or_other_outpatient...                  16   \n",
       "5  initial_hospital_inpatient_care,_typically_30_...                  13   \n",
       "6  subsequent_hospital_inpatient_care,_typically_...                  12   \n",
       "7  ultrasonic_guidance_imaging_supervision_and_in...                  14   \n",
       "\n",
       "   latent_component  \n",
       "3                 2  \n",
       "4                 2  \n",
       "5                 0  \n",
       "6                 4  \n",
       "7                 1  "
      ]
     },
     "execution_count": 198,
     "metadata": {},
     "output_type": "execute_result"
    }
   ],
   "source": [
    "# add column to show index from latent feature groupings\n",
    "procedures['latent_component'] = W.argsort()[::-1][:, 0]\n",
    "procedures.head()"
   ]
  },
  {
   "cell_type": "code",
   "execution_count": null,
   "metadata": {},
   "outputs": [],
   "source": []
  },
  {
   "cell_type": "code",
   "execution_count": null,
   "metadata": {},
   "outputs": [],
   "source": []
  },
  {
   "cell_type": "code",
   "execution_count": 108,
   "metadata": {},
   "outputs": [],
   "source": [
    "graph = pd.DataFrame()\n",
    "graph['source'] = pd.Series(map(lambda x: 'd' + str(x), procedures['physician_id']))\n",
    "graph['target'] = pd.Series(map(lambda x: 'p' + str(x), procedures['procedure_code']))\n",
    "# graph['type'] = 'Undirected'"
   ]
  },
  {
   "cell_type": "code",
   "execution_count": 109,
   "metadata": {},
   "outputs": [
    {
     "data": {
      "text/html": [
       "<div>\n",
       "<style scoped>\n",
       "    .dataframe tbody tr th:only-of-type {\n",
       "        vertical-align: middle;\n",
       "    }\n",
       "\n",
       "    .dataframe tbody tr th {\n",
       "        vertical-align: top;\n",
       "    }\n",
       "\n",
       "    .dataframe thead th {\n",
       "        text-align: right;\n",
       "    }\n",
       "</style>\n",
       "<table border=\"1\" class=\"dataframe\">\n",
       "  <thead>\n",
       "    <tr style=\"text-align: right;\">\n",
       "      <th></th>\n",
       "      <th>source</th>\n",
       "      <th>target</th>\n",
       "    </tr>\n",
       "  </thead>\n",
       "  <tbody>\n",
       "    <tr>\n",
       "      <th>0</th>\n",
       "      <td>d0</td>\n",
       "      <td>p99212</td>\n",
       "    </tr>\n",
       "    <tr>\n",
       "      <th>1</th>\n",
       "      <td>d0</td>\n",
       "      <td>p99213</td>\n",
       "    </tr>\n",
       "    <tr>\n",
       "      <th>2</th>\n",
       "      <td>d0</td>\n",
       "      <td>p99221</td>\n",
       "    </tr>\n",
       "    <tr>\n",
       "      <th>3</th>\n",
       "      <td>d0</td>\n",
       "      <td>p99232</td>\n",
       "    </tr>\n",
       "    <tr>\n",
       "      <th>4</th>\n",
       "      <td>d1</td>\n",
       "      <td>p76942</td>\n",
       "    </tr>\n",
       "  </tbody>\n",
       "</table>\n",
       "</div>"
      ],
      "text/plain": [
       "  source  target\n",
       "0     d0  p99212\n",
       "1     d0  p99213\n",
       "2     d0  p99221\n",
       "3     d0  p99232\n",
       "4     d1  p76942"
      ]
     },
     "execution_count": 109,
     "metadata": {},
     "output_type": "execute_result"
    }
   ],
   "source": [
    "graph.head()"
   ]
  },
  {
   "cell_type": "code",
   "execution_count": 110,
   "metadata": {},
   "outputs": [
    {
     "data": {
      "text/plain": [
       "(556556, 2)"
      ]
     },
     "execution_count": 110,
     "metadata": {},
     "output_type": "execute_result"
    }
   ],
   "source": [
    "graph.shape"
   ]
  },
  {
   "cell_type": "code",
   "execution_count": 84,
   "metadata": {},
   "outputs": [],
   "source": [
    "small_graph.to_csv('graph.csv', index=False, header=True, sep=';')"
   ]
  },
  {
   "cell_type": "code",
   "execution_count": null,
   "metadata": {},
   "outputs": [],
   "source": []
  }
 ],
 "metadata": {
  "kernelspec": {
   "display_name": "Python 3",
   "language": "python",
   "name": "python3"
  },
  "language_info": {
   "codemirror_mode": {
    "name": "ipython",
    "version": 3
   },
   "file_extension": ".py",
   "mimetype": "text/x-python",
   "name": "python",
   "nbconvert_exporter": "python",
   "pygments_lexer": "ipython3",
   "version": "3.6.5"
  }
 },
 "nbformat": 4,
 "nbformat_minor": 2
}
